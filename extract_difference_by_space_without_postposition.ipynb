# ------------------------------

!apt-get update

!apt-get install g++ openjdk-8-jdk python-dev python3-dev

!pip3 install JPype1-py3

!pip3 install konlpy

!JAVA_HOME="/usr/lib/jvm/java-8-openjdk-amd64"

# ------------------------------

import jpype
print(jpype.isJVMStarted()) #return False:not running or 0:running

from google.colab import files
uploaded = files.upload()

import io
import re
import pandas as pd
import konlpy.tag
df = pd.read_excel('d3.xlsx')
comment=df['comment']
print(type(comment))
comment.head()

token=df['token']
token.head()

import konlpy.tag
from konlpy.tag import Komoran 
komoran = Komoran()
comments2=[]
for i in comment:
  i=str(i)
  i = re.sub("\[|\]|\n'"," ",i)
  i=  re.sub(r'[^ ㄱ-ㅣ가-힣A-Za-z]', '', i) #스트링에서 특수문자 제거
  i1 = i.split() #띄어쓰기 기준으로 리스트 생성
  comments1=[]
  for j in i1: #한 띄어쓰기 당
    comments=''
    x = komoran.pos(j) #형태소 구분
    for y in x:
      if (y[1]=="JC" or y[1]=="JKB" or y[1]=="JKO"): #조사 구분 
        continue
      else: #조사 아닌경우 문자열에 추가
        comments=comments+ y[0]
    comments1.append(comments)
  comments2.append(comments1)
      
print(comments2)

tokens=[]
for j in token:
  j=str(j)
  j = re.sub("\[|\]|\'| ","",j)
  #print(j)
  ntokenj = j.split(",")
  #print(ntokenj)
  tokens.append(ntokenj)
print(tokens)

match1=[]
match2=[]
for x in range(len(comments2)):
    y=comments2[x]
    z=tokens[x]
    #겹치는 것들 목록
    for k in y:
      for l in z:
        if (l in k):
          match1.append(k)
          match2.append(l)

print(match1)
print(match2)
